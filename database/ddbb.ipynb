{
 "cells": [
  {
   "cell_type": "code",
   "execution_count": 25,
   "metadata": {},
   "outputs": [],
   "source": [
    "import psycopg2\n",
    "import pandas as pd\n",
    "import time\n",
    "import random\n",
    "import numpy as np\n",
    "\n",
    "from sensors import *"
   ]
  },
  {
   "cell_type": "code",
   "execution_count": 26,
   "metadata": {},
   "outputs": [
    {
     "name": "stdout",
     "output_type": "stream",
     "text": [
      "Connection established\n"
     ]
    }
   ],
   "source": [
    "# Update connection string information\n",
    "host = \"database-mine.postgres.database.azure.com\"\n",
    "dbname = \"postgres\"\n",
    "user = \"user_admin\"\n",
    "password = \"contrasenia_1\"\n",
    "sslmode = \"require\"\n",
    "\n",
    "# Construct connection string\n",
    "conn_string = \"host={0} user={1} dbname={2} password={3} sslmode={4}\".format(host, user, dbname, password, sslmode)\n",
    "conn = psycopg2.connect(conn_string)\n",
    "print(\"Connection established\")\n",
    "\n",
    "cursor = conn.cursor()"
   ]
  },
  {
   "cell_type": "markdown",
   "metadata": {},
   "source": [
    "# Defining Tables"
   ]
  },
  {
   "cell_type": "code",
   "execution_count": 27,
   "metadata": {},
   "outputs": [
    {
     "name": "stdout",
     "output_type": "stream",
     "text": [
      "Finished dropping gas table (if existed)\n",
      "Finished dropping dust table (if existed)\n",
      "Finished dropping backbreak table (if existed)\n",
      "Finished dropping air table (if existed)\n",
      "Finished dropping kpi table (if existed)\n",
      "Finished dropping earthquake table (if existed)\n",
      "Finished dropping prediction air table (if existed)\n",
      "Finished dropping prediction back table (if existed)\n",
      "Finished dropping Pred request table (if existed)\n"
     ]
    }
   ],
   "source": [
    "# Drop previous gas table\n",
    "cursor.execute(\"DROP TABLE IF EXISTS gas;\")\n",
    "print(\"Finished dropping gas table (if existed)\")\n",
    "\n",
    "# Drop previous dust table\n",
    "cursor.execute(\"DROP TABLE IF EXISTS dust;\")\n",
    "print(\"Finished dropping dust table (if existed)\")\n",
    "\n",
    "# Drop previous backbreak table\n",
    "cursor.execute(\"DROP TABLE IF EXISTS backbreak;\")\n",
    "print(\"Finished dropping backbreak table (if existed)\")\n",
    "\n",
    "# Drop previous air table\n",
    "cursor.execute(\"DROP TABLE IF EXISTS air;\")\n",
    "print(\"Finished dropping air table (if existed)\")\n",
    "\n",
    "# Drop previous kpi table\n",
    "cursor.execute(\"DROP TABLE IF EXISTS kpi;\")\n",
    "print(\"Finished dropping kpi table (if existed)\")\n",
    "\n",
    "# Drop previous earthquake table\n",
    "cursor.execute(\"DROP TABLE IF EXISTS earth;\")\n",
    "print(\"Finished dropping earthquake table (if existed)\")\n",
    "\n",
    "# Drop previous prediction air table\n",
    "cursor.execute(\"DROP TABLE IF EXISTS prediction_air;\")\n",
    "print(\"Finished dropping prediction air table (if existed)\")\n",
    "\n",
    "# Drop previous prediction back table\n",
    "cursor.execute(\"DROP TABLE IF EXISTS prediction_back;\")\n",
    "print(\"Finished dropping prediction back table (if existed)\")\n",
    "\n",
    "# Drop previous Pred request table\n",
    "cursor.execute(\"DROP TABLE IF EXISTS request;\")\n",
    "print(\"Finished dropping Pred request table (if existed)\")"
   ]
  },
  {
   "cell_type": "code",
   "execution_count": 28,
   "metadata": {},
   "outputs": [],
   "source": [
    "# Defining tables \n",
    "\n",
    "# Gas table\n",
    "TABLE_GAS = '''CREATE TABLE GAS (id serial PRIMARY KEY, time TIMESTAMP, NitrogenSensor FLOAT,  OxygenSensor FLOAT,\n",
    "            NitrousGasSensor FLOAT, CarbonMonoxideSensor FLOAT, CarbonAnidideSensor FLOAT, SulphurousAnidideSensor FLOAT,  \n",
    "            FiredampGasSensor FLOAT, HydrosulphurSensor FLOAT);'''\n",
    "\n",
    "# Dust table\n",
    "TABLE_DUST = '''CREATE TABLE DUST (id serial PRIMARY KEY, time TIMESTAMP, concentration FLOAT);'''\n",
    "\n",
    "# Backbreak table\n",
    "TABLE_BACK = '''CREATE TABLE BACKBREAK (id serial PRIMARY KEY, time TIMESTAMP, Burden FLOAT,Spacing FLOAT,Stemming FLOAT,Hole_diameter FLOAT,Hole_depth FLOAT,\n",
    "            Speficic_charge FLOAT,Number_of_rows FLOAT, Back_index FLOAT);'''\n",
    "\n",
    "# Air table\n",
    "AIR_TABLE = ''' CREATE TABLE AIR (id serial PRIMARY KEY, time TIMESTAMP, Impulse FLOAT, Air_density FLOAT, Pos_duration FLOAT, Peak_overpressure FLOAT, \n",
    "            Spacing FLOAT, Stemming FLOAT, Number_rows FLOAT, Air_index FLOAT)'''\n",
    "\n",
    "# KPI table\n",
    "TABLE_KPI = '''CREATE TABLE KPI (type varchar(50) PRIMARY KEY, precision FLOAT, recall FLOAT, f1_score FLOAT, accuracy FLOAT, matrix varchar(100))'''\n",
    "\n",
    "# Earthquake table\n",
    "EARTH_TABLE = '''CREATE TABLE EARTH (id serial PRIMARY KEY, time TIMESTAMP, label BOOL)'''\n",
    "\n",
    "# Air prediction table\n",
    "PRED_AIR_TABLE = '''CREATE TABLE PREDICTION_AIR (id serial PRIMARY KEY, time TIMESTAMP, result VARCHAR(50) )'''\n",
    "\n",
    "# Back prediction table\n",
    "PRED_BACK_TABLE = '''CREATE TABLE PREDICTION_BACK (id serial PRIMARY KEY, time TIMESTAMP, result VARCHAR(50) )'''\n",
    "\n",
    "# Pred request table\n",
    "PRED_REQ_TABLE = '''CREATE TABLE REQUEST (id serial PRIMARY KEY, type VARCHAR(30), done BIT)'''\n"
   ]
  },
  {
   "cell_type": "code",
   "execution_count": 29,
   "metadata": {},
   "outputs": [
    {
     "name": "stdout",
     "output_type": "stream",
     "text": [
      "Finished gas table\n",
      "Finished dust table\n"
     ]
    },
    {
     "name": "stdout",
     "output_type": "stream",
     "text": [
      "Finished backbreak table\n",
      "Finished air table\n",
      "Finished kpi table\n",
      "Finished earth table\n",
      "Finished pred_air table\n",
      "Finished pred_back table\n",
      "Finished request table\n"
     ]
    }
   ],
   "source": [
    "# # Executing\n",
    "\n",
    "cursor.execute(TABLE_GAS)\n",
    "print(\"Finished gas table\")\n",
    "\n",
    "cursor.execute(TABLE_DUST)\n",
    "print(\"Finished dust table\")\n",
    "\n",
    "cursor.execute(TABLE_BACK)\n",
    "print(\"Finished backbreak table\")\n",
    "\n",
    "cursor.execute(AIR_TABLE)\n",
    "print(\"Finished air table\")\n",
    "\n",
    "cursor.execute(TABLE_KPI)\n",
    "print(\"Finished kpi table\")\n",
    "\n",
    "cursor.execute(EARTH_TABLE)\n",
    "print(\"Finished earth table\")\n",
    "\n",
    "cursor.execute(PRED_AIR_TABLE)\n",
    "print(\"Finished pred_air table\")\n",
    "\n",
    "cursor.execute(PRED_BACK_TABLE)\n",
    "print(\"Finished pred_back table\")\n",
    "\n",
    "cursor.execute(PRED_REQ_TABLE)\n",
    "print(\"Finished request table\")\n"
   ]
  },
  {
   "cell_type": "code",
   "execution_count": 30,
   "metadata": {},
   "outputs": [],
   "source": [
    "cursor.execute('''INSERT INTO kpi (type, precision, recall, f1_score, accuracy, matrix) values (%s,%s,%s,%s,%s,%s)''', \n",
    "        ('gas', 0, 0, 0, 0, '0'))\n",
    "cursor.execute('''INSERT INTO kpi (type, precision, recall, f1_score, accuracy, matrix) values (%s,%s,%s,%s,%s,%s)''', \n",
    "        ('dust', 0, 0, 0, 0, '0'))"
   ]
  },
  {
   "cell_type": "code",
   "execution_count": 31,
   "metadata": {},
   "outputs": [],
   "source": [
    "# Clean up\n",
    "conn.commit()\n",
    "cursor.close()\n",
    "conn.close()"
   ]
  }
 ],
 "metadata": {
  "kernelspec": {
   "display_name": "Python 3",
   "language": "python",
   "name": "python3"
  },
  "language_info": {
   "codemirror_mode": {
    "name": "ipython",
    "version": 3
   },
   "file_extension": ".py",
   "mimetype": "text/x-python",
   "name": "python",
   "nbconvert_exporter": "python",
   "pygments_lexer": "ipython3",
   "version": "3.9.4"
  }
 },
 "nbformat": 4,
 "nbformat_minor": 2
}
